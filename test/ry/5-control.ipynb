{
 "cells": [
  {
   "cell_type": "code",
   "execution_count": 1,
   "metadata": {},
   "outputs": [],
   "source": [
    "import sys\n",
    "sys.path.append('../../lib')\n",
    "import numpy as np\n",
    "import libry as ry\n",
    "import time"
   ]
  },
  {
   "cell_type": "code",
   "execution_count": 2,
   "metadata": {},
   "outputs": [],
   "source": [
    "C = ry.Config()\n",
    "C.view()\n",
    "C.addFile('../Control/minimal/scene.g')"
   ]
  },
  {
   "cell_type": "code",
   "execution_count": 3,
   "metadata": {},
   "outputs": [],
   "source": [
    "tau=.01"
   ]
  },
  {
   "cell_type": "code",
   "execution_count": 4,
   "metadata": {},
   "outputs": [
    {
     "data": {
      "text/plain": "<libry.CtrlObjective at 0x7f5f740c6c30>"
     },
     "execution_count": 4,
     "metadata": {},
     "output_type": "execute_result"
    }
   ],
   "source": [
    "CS = ry.CtrlSet()\n",
    "\n",
    "CS.add_qControlObjective(2, 1e-2*np.math.sqrt(tau), C)\n",
    "CS.add_qControlObjective(1, 1e-1*np.math.sqrt(tau), C)\n",
    "pos = CS.addObjective(C.feature(ry.FS.poseDiff, [\"gripper\", \"target\"], [1e0]), ry.OT.sos, .1)\n",
    "CS.addObjective(C.feature(ry.FS.accumulatedCollisions, [\"ALL\"], [1e2]), ry.OT.eq)"
   ]
  },
  {
   "cell_type": "code",
   "execution_count": 5,
   "metadata": {},
   "outputs": [],
   "source": [
    "ctrl = ry.CtrlSolver(C, tau, 2)"
   ]
  },
  {
   "cell_type": "code",
   "execution_count": 6,
   "metadata": {},
   "outputs": [],
   "source": [
    "for t in range(0,100):\n",
    "    ctrl.set(CS)\n",
    "    ctrl.update(C)\n",
    "    q = ctrl.solve(C)\n",
    "    C.setJointState(q)\n",
    "    C.computeCollisions()\n",
    "\n",
    "#    ctrl.report();\n",
    " #   C.watch(false, STRING(\"t:\" <<t));\n",
    "    time.sleep(.01)\n",
    "#    if(pos->status>AS_running) break;\n",
    "#//    if(CS.isConverged(ctrl.komo.pathConfig)) break;"
   ]
  },
  {
   "cell_type": "code",
   "execution_count": null,
   "metadata": {},
   "outputs": [],
   "source": []
  },
  {
   "cell_type": "code",
   "execution_count": null,
   "metadata": {
    "pycharm": {
     "is_executing": true
    }
   },
   "outputs": [],
   "source": [
    "import os\n",
    "os._exit(0)"
   ]
  },
  {
   "cell_type": "code",
   "execution_count": null,
   "metadata": {},
   "outputs": [],
   "source": [
    "import sys\n",
    "sys.path.append('../../lib')\n",
    "import numpy as np\n",
    "import libry as ry\n",
    "import time"
   ]
  },
  {
   "cell_type": "code",
   "execution_count": null,
   "metadata": {},
   "outputs": [],
   "source": [
    "C = ry.Config()\n",
    "C.addFile('../Control/minimal/pandas.g')\n",
    "C.view()\n",
    "tau=.01"
   ]
  },
  {
   "cell_type": "code",
   "execution_count": 10,
   "metadata": {},
   "outputs": [
    {
     "ename": "RuntimeError",
     "evalue": "/home/jason/git/thesis_2020/rai/rai/Kin/kin.cpp:getFrameIDs:371(-2) frame name 'object' doesn't exist",
     "output_type": "error",
     "traceback": [
      "\u001B[0;31m---------------------------------------------------------------------------\u001B[0m",
      "\u001B[0;31mRuntimeError\u001B[0m                              Traceback (most recent call last)",
      "\u001B[0;32m<ipython-input-10-f9c9253e3b9f>\u001B[0m in \u001B[0;36m<module>\u001B[0;34m\u001B[0m\n\u001B[1;32m      1\u001B[0m \u001B[0mapproach\u001B[0m \u001B[0;34m=\u001B[0m \u001B[0mry\u001B[0m\u001B[0;34m.\u001B[0m\u001B[0mCtrlSet\u001B[0m\u001B[0;34m(\u001B[0m\u001B[0;34m)\u001B[0m\u001B[0;34m\u001B[0m\u001B[0;34m\u001B[0m\u001B[0m\n\u001B[0;32m----> 2\u001B[0;31m \u001B[0mapproach\u001B[0m\u001B[0;34m.\u001B[0m\u001B[0maddObjective\u001B[0m\u001B[0;34m(\u001B[0m\u001B[0mC\u001B[0m\u001B[0;34m.\u001B[0m\u001B[0mfeature\u001B[0m\u001B[0;34m(\u001B[0m\u001B[0mry\u001B[0m\u001B[0;34m.\u001B[0m\u001B[0mFS\u001B[0m\u001B[0;34m.\u001B[0m\u001B[0mvectorZDiff\u001B[0m\u001B[0;34m,\u001B[0m \u001B[0;34m[\u001B[0m\u001B[0;34m\"object\"\u001B[0m\u001B[0;34m,\u001B[0m \u001B[0;34m\"R_gripperCenter\"\u001B[0m\u001B[0;34m]\u001B[0m\u001B[0;34m,\u001B[0m \u001B[0;34m[\u001B[0m\u001B[0;36m1e1\u001B[0m\u001B[0;34m]\u001B[0m\u001B[0;34m)\u001B[0m\u001B[0;34m,\u001B[0m \u001B[0mry\u001B[0m\u001B[0;34m.\u001B[0m\u001B[0mOT\u001B[0m\u001B[0;34m.\u001B[0m\u001B[0msos\u001B[0m\u001B[0;34m,\u001B[0m \u001B[0;36m.005\u001B[0m\u001B[0;34m)\u001B[0m\u001B[0;34m\u001B[0m\u001B[0;34m\u001B[0m\u001B[0m\n\u001B[0m\u001B[1;32m      3\u001B[0m \u001B[0mapproach\u001B[0m\u001B[0;34m.\u001B[0m\u001B[0maddObjective\u001B[0m\u001B[0;34m(\u001B[0m\u001B[0mC\u001B[0m\u001B[0;34m.\u001B[0m\u001B[0mfeature\u001B[0m\u001B[0;34m(\u001B[0m\u001B[0mry\u001B[0m\u001B[0;34m.\u001B[0m\u001B[0mFS\u001B[0m\u001B[0;34m.\u001B[0m\u001B[0mpositionRel\u001B[0m\u001B[0;34m,\u001B[0m \u001B[0;34m[\u001B[0m\u001B[0;34m\"object\"\u001B[0m\u001B[0;34m,\u001B[0m \u001B[0;34m\"R_gripperCenter\"\u001B[0m\u001B[0;34m]\u001B[0m\u001B[0;34m,\u001B[0m \u001B[0;34m[\u001B[0m\u001B[0;36m1e1\u001B[0m\u001B[0;34m]\u001B[0m\u001B[0;34m,\u001B[0m \u001B[0;34m[\u001B[0m\u001B[0;36m.0\u001B[0m\u001B[0;34m,\u001B[0m \u001B[0;36m0.\u001B[0m\u001B[0;34m,\u001B[0m \u001B[0;34m-\u001B[0m\u001B[0;36m.15\u001B[0m\u001B[0;34m]\u001B[0m\u001B[0;34m)\u001B[0m\u001B[0;34m,\u001B[0m \u001B[0mry\u001B[0m\u001B[0;34m.\u001B[0m\u001B[0mOT\u001B[0m\u001B[0;34m.\u001B[0m\u001B[0msos\u001B[0m\u001B[0;34m,\u001B[0m \u001B[0;36m.005\u001B[0m\u001B[0;34m)\u001B[0m\u001B[0;34m\u001B[0m\u001B[0;34m\u001B[0m\u001B[0m\n\u001B[1;32m      4\u001B[0m \u001B[0;31m#approach.symbolicCommands.append({\"openGripper\", \"R_gripper\"});\u001B[0m\u001B[0;34m\u001B[0m\u001B[0;34m\u001B[0m\u001B[0;34m\u001B[0m\u001B[0m\n\u001B[1;32m      5\u001B[0m \u001B[0;34m\u001B[0m\u001B[0m\n",
      "\u001B[0;31mRuntimeError\u001B[0m: /home/jason/git/thesis_2020/rai/rai/Kin/kin.cpp:getFrameIDs:371(-2) frame name 'object' doesn't exist"
     ]
    }
   ],
   "source": [
    "approach = ry.CtrlSet()\n",
    "approach.addObjective(C.feature(ry.FS.vectorZDiff, [\"object\", \"R_gripperCenter\"], [1e1]), ry.OT.sos, .005)\n",
    "approach.addObjective(C.feature(ry.FS.positionRel, [\"object\", \"R_gripperCenter\"], [1e1], [.0, 0., -.15]), ry.OT.sos, .005)\n",
    "#approach.symbolicCommands.append({\"openGripper\", \"R_gripper\"});\n",
    "\n",
    "preGrasp = ry.CtrlSet()\n",
    "#immediate constraint:\n",
    "preGrasp.addObjective(C.feature(ry.FS.insideBox, [\"object\", \"R_gripperPregrasp\"], [1e0]), ry.OT.ineq, -1)\n",
    "#transient:\n",
    "preGrasp.addObjective(C.feature(ry.FS.vectorZDiff, [\"object\", \"R_gripperCenter\"], [1e1]), ry.OT.sos, .005)\n",
    "preGrasp.addObjective(C.feature(ry.FS.positionDiff, [\"R_gripperCenter\", \"object\"], [1e1]), ry.OT.sos, .002)\n",
    "#preGrasp.symbolicCommands.append({\"preOpenGripper\", \"R_gripper\"});\n",
    "\n",
    "grasp = ry.CtrlSet()\n",
    "grasp.addObjective(C.feature(ry.FS.vectorZ, [\"R_gripperCenter\"], [], [0., 0., 1.]), ry.OT.eq, -1.)\n",
    "grasp.addObjective(C.feature(ry.FS.positionDiff, [\"R_gripperCenter\", \"object\"], [1e1]), ry.OT.eq, -1.)\n",
    "#grasp.symbolicCommands.append({\"closeGripper\", \"R_gripper\"});\n",
    "\n",
    "controls = ry.CtrlSet()\n",
    "controls.add_qControlObjective(2, 1e-3*np.math.sqrt(tau), C)\n",
    "controls.add_qControlObjective(1, 1e-1*np.math.sqrt(tau), C)\n",
    "#auto coll = ctrl.addObjective(FS_accumulatedCollisions, {}, OT_eq, {1e2});"
   ]
  },
  {
   "cell_type": "code",
   "execution_count": null,
   "metadata": {},
   "outputs": [],
   "source": [
    "ctrl = ry.CtrlSolver(C, tau, 2)"
   ]
  },
  {
   "cell_type": "code",
   "execution_count": null,
   "metadata": {},
   "outputs": [],
   "source": [
    "for t in range (0,100):\n",
    "\n",
    "    if grasp.isConverged(ctrl):\n",
    "        break;\n",
    "    elif grasp.canBeInitiated(ctrl):\n",
    "        ctrl.set(grasp)\n",
    "    elif preGrasp.canBeInitiated(ctrl):\n",
    "        ctrl.set(preGrasp)\n",
    "    elif approach.canBeInitiated(ctrl):\n",
    "        ctrl.set(approach)\n",
    "\n",
    "    ctrl.update(C)\n",
    "    q = ctrl.solve()\n",
    "    C.setJointState(q)\n",
    "    C.computeCollisions()\n",
    "\n",
    "#     ctrl.report();\n",
    "#     C.watch(false, STRING(txt <<\"t:\" <<t));\n",
    "    time.sleep(.01);\n",
    "# //    if(c_pos->status>AS_running) break;"
   ]
  },
  {
   "cell_type": "code",
   "execution_count": null,
   "metadata": {},
   "outputs": [],
   "source": []
  }
 ],
 "metadata": {
  "kernelspec": {
   "display_name": "Python 3",
   "language": "python",
   "name": "python3"
  },
  "language_info": {
   "codemirror_mode": {
    "name": "ipython",
    "version": 3
   },
   "file_extension": ".py",
   "mimetype": "text/x-python",
   "name": "python",
   "nbconvert_exporter": "python",
   "pygments_lexer": "ipython3",
   "version": "3.6.9"
  }
 },
 "nbformat": 4,
 "nbformat_minor": 4
}