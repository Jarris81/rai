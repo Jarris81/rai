{
 "cells": [
  {
   "cell_type": "code",
   "execution_count": 1,
   "metadata": {},
   "outputs": [],
   "source": [
    "import sys\n",
    "##sys.path.append('../../lib')\n",
    "import numpy as np\n",
    "import libry as ry"
   ]
  },
  {
   "cell_type": "code",
   "execution_count": 2,
   "metadata": {},
   "outputs": [],
   "source": [
    "C = ry.Config()\n",
    "\n",
    "C.addFile(\"../KOMO/switches/model2.g\")\n",
    "C.view()"
   ]
  },
  {
   "cell_type": "code",
   "execution_count": null,
   "metadata": {},
   "outputs": [],
   "source": [
    "komo = ry.KOMO()\n",
    "\n",
    "komo.setModel(C, False)\n",
    "komo.setTiming(2.5, 30, 5., 2)"
   ]
  },
  {
   "cell_type": "code",
   "execution_count": null,
   "metadata": {},
   "outputs": [],
   "source": [
    "komo.add_qControlObjective([], 2)"
   ]
  },
  {
   "cell_type": "code",
   "execution_count": null,
   "metadata": {},
   "outputs": [],
   "source": [
    "komo.addSquaredQuaternionNorms([], 3.)"
   ]
  },
  {
   "cell_type": "code",
   "execution_count": null,
   "metadata": {},
   "outputs": [],
   "source": []
  },
  {
   "cell_type": "code",
   "execution_count": null,
   "metadata": {},
   "outputs": [],
   "source": [
    "#grasp\n",
    "komo.addSwitch_stable(1., 2., \"table\", \"gripper\", \"box\")\n",
    "komo.addObjective([1.], ry.FS.positionDiff, [\"gripper\", \"box\"], ry.OT.eq, [1e2])\n",
    "komo.addObjective([1.], ry.FS.scalarProductXX, [\"gripper\", \"box\"], ry.OT.eq, [1e2], [0.])\n",
    "komo.addObjective([1.], ry.FS.vectorZ, [\"gripper\"], ry.OT.eq, [1e2], [0., 0., 1.])\n",
    "\n",
    "#slow - down - up\n",
    "komo.addObjective([1.], ry.FS.qItself, [], ry.OT.eq, [], [], 1)\n",
    "komo.addObjective([.9,1.1], ry.FS.position, [\"gripper\"], ry.OT.eq, [], [0.,0.,.1], 2)\n",
    "\n",
    "#place\n",
    "komo.addSwitch_stable(2., -1., \"gripper\", \"table\", \"box\")\n",
    "komo.addObjective([2.], ry.FS.positionDiff, [\"box\", \"table\"], ry.OT.eq, [1e2], [0,0,.08])\n",
    "komo.addObjective([2.], ry.FS.vectorZ, [\"gripper\"], ry.OT.eq, [1e2], [0., 0., 1.])\n",
    "\n",
    "#slow - down - up\n",
    "komo.addObjective([2.], ry.FS.qItself, [], ry.OT.eq, [], [], 1)\n",
    "komo.addObjective([1.9,2.2], ry.FS.position, [\"gripper\"], ry.OT.eq, [], [0.,0.,.1], 2)"
   ]
  },
  {
   "cell_type": "code",
   "execution_count": null,
   "metadata": {},
   "outputs": [],
   "source": [
    "#komo.verbose = 4;\n",
    "komo.optimize();\n",
    "#/  komo.checkGradients();\n",
    "\n",
    "komo.view(False, \"result\")"
   ]
  },
  {
   "cell_type": "code",
   "execution_count": null,
   "metadata": {},
   "outputs": [],
   "source": [
    "komo.view_play(.1, False)"
   ]
  },
  {
   "cell_type": "markdown",
   "metadata": {},
   "source": [
    "## Same again, but only the keyframes:"
   ]
  },
  {
   "cell_type": "code",
   "execution_count": 13,
   "metadata": {},
   "outputs": [],
   "source": [
    "komo=0"
   ]
  },
  {
   "cell_type": "code",
   "execution_count": 14,
   "metadata": {},
   "outputs": [],
   "source": [
    "komo = ry.KOMO()\n",
    "komo.setModel(C, False)\n",
    "komo.setTiming(5., 1, 5., 1) #DIFFERENT"
   ]
  },
  {
   "cell_type": "code",
   "execution_count": 15,
   "metadata": {},
   "outputs": [],
   "source": [
    "komo.add_qControlObjective([], 1, 1e-1) #DIFFERENT\n",
    "komo.addSquaredQuaternionNorms([], 3.)"
   ]
  },
  {
   "cell_type": "code",
   "execution_count": 16,
   "metadata": {},
   "outputs": [],
   "source": [
    "framee = \"table\""
   ]
  },
  {
   "cell_type": "code",
   "execution_count": 17,
   "metadata": {},
   "outputs": [],
   "source": [
    "#grasp\n",
    "komo.addSwitch_stable(1., 2., framee, \"gripper\", \"box\")\n",
    "komo.addObjective([1.], ry.FS.positionDiff, [\"gripper\", \"box\"], ry.OT.eq, [1e2])\n",
    "komo.addObjective([1.], ry.FS.scalarProductXX, [\"gripper\", \"box\"], ry.OT.eq, [1e2], [0.])\n",
    "komo.addObjective([1.], ry.FS.vectorZ, [\"gripper\"], ry.OT.eq, [1e2], [0., 0., 1.])\n",
    "\n",
    "#DIFFERENT: UP-DOWN MISSING\n",
    "    \n",
    "#place\n",
    "komo.addSwitch_stable(2., 3., \"gripper\", framee, \"box\")\n",
    "komo.addObjective([2.], ry.FS.positionDiff, [\"box\", \"table\"], ry.OT.eq, [1e2], [0,0,.08])\n",
    "komo.addObjective([2.], ry.FS.vectorZ, [\"gripper\"], ry.OT.eq, [1e2], [0., 0., 1.])\n",
    "\n",
    "#grasp again\n",
    "komo.addSwitch_stable(3., 4., framee, \"gripper\", \"box\")\n",
    "komo.addObjective([3.], ry.FS.positionDiff, [\"gripper\", \"box\"], ry.OT.eq, [1e2])\n",
    "komo.addObjective([3.], ry.FS.scalarProductXX, [\"gripper\", \"box\"], ry.OT.eq, [1e2], [0.])\n",
    "komo.addObjective([3.], ry.FS.vectorZ, [\"gripper\"], ry.OT.eq, [1e2], [0., 0., 1.])\n",
    "\n",
    "#DIFFERENT: UP-DOWN MISSING\n",
    "    \n",
    "#place again\n",
    "komo.addSwitch_stable(4., -1., \"gripper\", framee, \"box\")\n",
    "komo.addObjective([4.], ry.FS.positionDiff, [\"box\", \"table\"], ry.OT.eq, [1e2], [0.4,0.4,.08])\n",
    "komo.addObjective([4.], ry.FS.vectorZ, [\"gripper\"], ry.OT.eq, [1e2], [0., 0., 1.])"
   ]
  },
  {
   "cell_type": "code",
   "execution_count": 19,
   "metadata": {},
   "outputs": [
    {
     "name": "stdout",
     "output_type": "stream",
     "text": [
      "constraints: 0.22123568499706223\n",
      "costs: 0.05267967344605344\n"
     ]
    },
    {
     "data": {
      "text/plain": [
       "{'F_qItself/1-#16': {'order': 1.0, 'type': 'sos', 'sos': 0.05267967344605344},\n",
       " 'F_qQuaternionNorms/0-#49': {'order': 0.0,\n",
       "  'type': 'eq',\n",
       "  'eq': 8.297946679780566e-07},\n",
       " 'F_PoseRel/1-box-table': {'order': 1.0,\n",
       "  'type': 'eq',\n",
       "  'eq': 8.106278852013971e-07},\n",
       " 'F_PositionDiff/0-gripper-box': {'order': 0.0,\n",
       "  'type': 'eq',\n",
       "  'eq': 0.028986245718327565},\n",
       " 'F_ScalarProduct/0-gripper-box': {'order': 0.0,\n",
       "  'type': 'eq',\n",
       "  'eq': 2.4261059827779263e-08},\n",
       " 'F_Vector/0-gripper': {'order': 0.0,\n",
       "  'type': 'eq',\n",
       "  'eq': 0.005636264324076382},\n",
       " 'F_PoseRel/1-box-gripper': {'order': 1.0,\n",
       "  'type': 'eq',\n",
       "  'eq': 0.1562273035997413},\n",
       " 'F_PositionDiff/0-box-table': {'order': 0.0,\n",
       "  'type': 'eq',\n",
       "  'eq': 0.03038141895955332},\n",
       " 'F_qZeroVel/1-box': {'order': 1.0, 'type': 'eq', 'eq': 7.163119357225166e-07},\n",
       " 'sos': 0.05267967344605344,\n",
       " 'ineq': 0.0,\n",
       " 'eq': 0.22123568499706223,\n",
       " 'f': 0.0}"
      ]
     },
     "execution_count": 19,
     "metadata": {},
     "output_type": "execute_result"
    }
   ],
   "source": [
    "komo.optimize();\n",
    "komo.view(False, \"result\")\n",
    "print(\"constraints:\", komo.getConstraintViolations())\n",
    "print(\"costs:\", komo.getCosts())\n",
    "komo.getReport(False)"
   ]
  },
  {
   "cell_type": "code",
   "execution_count": 20,
   "metadata": {},
   "outputs": [],
   "source": [
    "komo.view_play(.2, False)\n",
    "C.view_close()"
   ]
  },
  {
   "cell_type": "code",
   "execution_count": null,
   "outputs": [],
   "source": [],
   "metadata": {
    "collapsed": false,
    "pycharm": {
     "name": "#%%\n"
    }
   }
  },
  {
   "cell_type": "code",
   "execution_count": null,
   "metadata": {},
   "outputs": [],
   "source": []
  },
  {
   "cell_type": "code",
   "execution_count": null,
   "metadata": {},
   "outputs": [],
   "source": []
  }
 ],
 "metadata": {
  "kernelspec": {
   "display_name": "Python 3",
   "language": "python",
   "name": "python3"
  },
  "language_info": {
   "codemirror_mode": {
    "name": "ipython",
    "version": 3
   },
   "file_extension": ".py",
   "mimetype": "text/x-python",
   "name": "python",
   "nbconvert_exporter": "python",
   "pygments_lexer": "ipython3",
   "version": "3.8.5"
  }
 },
 "nbformat": 4,
 "nbformat_minor": 4
}